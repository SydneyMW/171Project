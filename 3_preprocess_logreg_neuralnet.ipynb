{
 "cells": [
  {
   "cell_type": "markdown",
   "id": "60e7db10-805e-40d6-beac-c79c578b4595",
   "metadata": {},
   "source": [
    "## Data Pre-Processing"
   ]
  },
  {
   "cell_type": "code",
   "execution_count": null,
   "id": "b8484c9c-e082-4ed5-a546-45ea9d8b26ac",
   "metadata": {},
   "outputs": [],
   "source": [
    "import pandas as pd\n",
    "import numpy as np\n",
    "import seaborn as sns\n",
    "from sklearn.preprocessing import MinMaxScaler\n",
    "from sklearn.model_selection import train_test_split"
   ]
  },
  {
   "cell_type": "code",
   "execution_count": null,
   "id": "7a4a93e5",
   "metadata": {},
   "outputs": [],
   "source": [
    "# Set a global random seed to achieve reproducibility\n",
    "RANDOM_SEED = 6\n",
    "np.random.seed(RANDOM_SEED)"
   ]
  },
  {
   "cell_type": "code",
   "execution_count": null,
   "id": "5b054e3d-c12d-4f23-9302-8e0d07456b24",
   "metadata": {},
   "outputs": [
    {
     "data": {
      "text/html": [
       "<div>\n",
       "<style scoped>\n",
       "    .dataframe tbody tr th:only-of-type {\n",
       "        vertical-align: middle;\n",
       "    }\n",
       "\n",
       "    .dataframe tbody tr th {\n",
       "        vertical-align: top;\n",
       "    }\n",
       "\n",
       "    .dataframe thead th {\n",
       "        text-align: right;\n",
       "    }\n",
       "</style>\n",
       "<table border=\"1\" class=\"dataframe\">\n",
       "  <thead>\n",
       "    <tr style=\"text-align: right;\">\n",
       "      <th></th>\n",
       "      <th>height</th>\n",
       "      <th>width</th>\n",
       "      <th>aratio</th>\n",
       "      <th>local</th>\n",
       "      <th>url*images+buttons</th>\n",
       "      <th>url*likesbooks.com</th>\n",
       "      <th>url*www.slake.com</th>\n",
       "      <th>url*hydrogeologist</th>\n",
       "      <th>url*oso</th>\n",
       "      <th>url*media</th>\n",
       "      <th>...</th>\n",
       "      <th>caption*home</th>\n",
       "      <th>caption*my</th>\n",
       "      <th>caption*your</th>\n",
       "      <th>caption*in</th>\n",
       "      <th>caption*bytes</th>\n",
       "      <th>caption*here</th>\n",
       "      <th>caption*click</th>\n",
       "      <th>caption*for</th>\n",
       "      <th>caption*you</th>\n",
       "      <th>ad</th>\n",
       "    </tr>\n",
       "  </thead>\n",
       "  <tbody>\n",
       "    <tr>\n",
       "      <th>0</th>\n",
       "      <td>125</td>\n",
       "      <td>125</td>\n",
       "      <td>1.0</td>\n",
       "      <td>1</td>\n",
       "      <td>0</td>\n",
       "      <td>0</td>\n",
       "      <td>0</td>\n",
       "      <td>0</td>\n",
       "      <td>0</td>\n",
       "      <td>0</td>\n",
       "      <td>...</td>\n",
       "      <td>0</td>\n",
       "      <td>0</td>\n",
       "      <td>0</td>\n",
       "      <td>0</td>\n",
       "      <td>0</td>\n",
       "      <td>0</td>\n",
       "      <td>0</td>\n",
       "      <td>0</td>\n",
       "      <td>0</td>\n",
       "      <td>ad.</td>\n",
       "    </tr>\n",
       "    <tr>\n",
       "      <th>1</th>\n",
       "      <td>57</td>\n",
       "      <td>468</td>\n",
       "      <td>8.2105</td>\n",
       "      <td>1</td>\n",
       "      <td>0</td>\n",
       "      <td>0</td>\n",
       "      <td>0</td>\n",
       "      <td>0</td>\n",
       "      <td>0</td>\n",
       "      <td>0</td>\n",
       "      <td>...</td>\n",
       "      <td>0</td>\n",
       "      <td>0</td>\n",
       "      <td>0</td>\n",
       "      <td>0</td>\n",
       "      <td>0</td>\n",
       "      <td>0</td>\n",
       "      <td>0</td>\n",
       "      <td>0</td>\n",
       "      <td>0</td>\n",
       "      <td>ad.</td>\n",
       "    </tr>\n",
       "    <tr>\n",
       "      <th>2</th>\n",
       "      <td>33</td>\n",
       "      <td>230</td>\n",
       "      <td>6.9696</td>\n",
       "      <td>1</td>\n",
       "      <td>0</td>\n",
       "      <td>0</td>\n",
       "      <td>0</td>\n",
       "      <td>0</td>\n",
       "      <td>0</td>\n",
       "      <td>0</td>\n",
       "      <td>...</td>\n",
       "      <td>0</td>\n",
       "      <td>0</td>\n",
       "      <td>0</td>\n",
       "      <td>0</td>\n",
       "      <td>0</td>\n",
       "      <td>0</td>\n",
       "      <td>0</td>\n",
       "      <td>0</td>\n",
       "      <td>0</td>\n",
       "      <td>ad.</td>\n",
       "    </tr>\n",
       "    <tr>\n",
       "      <th>3</th>\n",
       "      <td>60</td>\n",
       "      <td>468</td>\n",
       "      <td>7.8</td>\n",
       "      <td>1</td>\n",
       "      <td>0</td>\n",
       "      <td>0</td>\n",
       "      <td>0</td>\n",
       "      <td>0</td>\n",
       "      <td>0</td>\n",
       "      <td>0</td>\n",
       "      <td>...</td>\n",
       "      <td>0</td>\n",
       "      <td>0</td>\n",
       "      <td>0</td>\n",
       "      <td>0</td>\n",
       "      <td>0</td>\n",
       "      <td>0</td>\n",
       "      <td>0</td>\n",
       "      <td>0</td>\n",
       "      <td>0</td>\n",
       "      <td>ad.</td>\n",
       "    </tr>\n",
       "    <tr>\n",
       "      <th>4</th>\n",
       "      <td>60</td>\n",
       "      <td>468</td>\n",
       "      <td>7.8</td>\n",
       "      <td>1</td>\n",
       "      <td>0</td>\n",
       "      <td>0</td>\n",
       "      <td>0</td>\n",
       "      <td>0</td>\n",
       "      <td>0</td>\n",
       "      <td>0</td>\n",
       "      <td>...</td>\n",
       "      <td>0</td>\n",
       "      <td>0</td>\n",
       "      <td>0</td>\n",
       "      <td>0</td>\n",
       "      <td>0</td>\n",
       "      <td>0</td>\n",
       "      <td>0</td>\n",
       "      <td>0</td>\n",
       "      <td>0</td>\n",
       "      <td>ad.</td>\n",
       "    </tr>\n",
       "  </tbody>\n",
       "</table>\n",
       "<p>5 rows × 1559 columns</p>\n",
       "</div>"
      ],
      "text/plain": [
       "  height width  aratio local  url*images+buttons  url*likesbooks.com  \\\n",
       "0    125   125     1.0     1                   0                   0   \n",
       "1     57   468  8.2105     1                   0                   0   \n",
       "2     33   230  6.9696     1                   0                   0   \n",
       "3     60   468     7.8     1                   0                   0   \n",
       "4     60   468     7.8     1                   0                   0   \n",
       "\n",
       "   url*www.slake.com  url*hydrogeologist  url*oso  url*media  ...  \\\n",
       "0                  0                   0        0          0  ...   \n",
       "1                  0                   0        0          0  ...   \n",
       "2                  0                   0        0          0  ...   \n",
       "3                  0                   0        0          0  ...   \n",
       "4                  0                   0        0          0  ...   \n",
       "\n",
       "   caption*home  caption*my  caption*your  caption*in  caption*bytes  \\\n",
       "0             0           0             0           0              0   \n",
       "1             0           0             0           0              0   \n",
       "2             0           0             0           0              0   \n",
       "3             0           0             0           0              0   \n",
       "4             0           0             0           0              0   \n",
       "\n",
       "   caption*here  caption*click  caption*for  caption*you   ad  \n",
       "0             0              0            0            0  ad.  \n",
       "1             0              0            0            0  ad.  \n",
       "2             0              0            0            0  ad.  \n",
       "3             0              0            0            0  ad.  \n",
       "4             0              0            0            0  ad.  \n",
       "\n",
       "[5 rows x 1559 columns]"
      ]
     },
     "execution_count": 50,
     "metadata": {},
     "output_type": "execute_result"
    }
   ],
   "source": [
    "data = pd.read_csv(\"./dataset/data.csv\", low_memory=False)\n",
    "data.head()"
   ]
  },
  {
   "cell_type": "markdown",
   "id": "9623f245-20db-4203-a7f1-136702bbed0e",
   "metadata": {},
   "source": [
    "**Evaluate data characteristics: feature min/max values, feature mean values, number of features, null values, unknown values, etc.**"
   ]
  },
  {
   "cell_type": "code",
   "execution_count": null,
   "id": "263d592c-2f3e-40f0-bfa8-6b9a41210697",
   "metadata": {},
   "outputs": [
    {
     "data": {
      "text/plain": [
       "(3279, 1559)"
      ]
     },
     "execution_count": 51,
     "metadata": {},
     "output_type": "execute_result"
    }
   ],
   "source": [
    "data.shape"
   ]
  },
  {
   "cell_type": "code",
   "execution_count": null,
   "id": "994eb3f3-c4c5-4a55-9349-994085ac8003",
   "metadata": {},
   "outputs": [
    {
     "data": {
      "text/html": [
       "<div>\n",
       "<style scoped>\n",
       "    .dataframe tbody tr th:only-of-type {\n",
       "        vertical-align: middle;\n",
       "    }\n",
       "\n",
       "    .dataframe tbody tr th {\n",
       "        vertical-align: top;\n",
       "    }\n",
       "\n",
       "    .dataframe thead th {\n",
       "        text-align: right;\n",
       "    }\n",
       "</style>\n",
       "<table border=\"1\" class=\"dataframe\">\n",
       "  <thead>\n",
       "    <tr style=\"text-align: right;\">\n",
       "      <th></th>\n",
       "      <th>url*images+buttons</th>\n",
       "      <th>url*likesbooks.com</th>\n",
       "      <th>url*www.slake.com</th>\n",
       "      <th>url*hydrogeologist</th>\n",
       "      <th>url*oso</th>\n",
       "      <th>url*media</th>\n",
       "      <th>url*peace+images</th>\n",
       "      <th>url*blipverts</th>\n",
       "      <th>url*tkaine+kats</th>\n",
       "      <th>url*labyrinth</th>\n",
       "      <th>...</th>\n",
       "      <th>caption*of</th>\n",
       "      <th>caption*home</th>\n",
       "      <th>caption*my</th>\n",
       "      <th>caption*your</th>\n",
       "      <th>caption*in</th>\n",
       "      <th>caption*bytes</th>\n",
       "      <th>caption*here</th>\n",
       "      <th>caption*click</th>\n",
       "      <th>caption*for</th>\n",
       "      <th>caption*you</th>\n",
       "    </tr>\n",
       "  </thead>\n",
       "  <tbody>\n",
       "    <tr>\n",
       "      <th>count</th>\n",
       "      <td>3279.00</td>\n",
       "      <td>3279.00</td>\n",
       "      <td>3279.00</td>\n",
       "      <td>3279.00</td>\n",
       "      <td>3279.00</td>\n",
       "      <td>3279.00</td>\n",
       "      <td>3279.00</td>\n",
       "      <td>3279.00</td>\n",
       "      <td>3279.00</td>\n",
       "      <td>3279.00</td>\n",
       "      <td>...</td>\n",
       "      <td>3279.00</td>\n",
       "      <td>3279.00</td>\n",
       "      <td>3279.00</td>\n",
       "      <td>3279.00</td>\n",
       "      <td>3279.00</td>\n",
       "      <td>3279.00</td>\n",
       "      <td>3279.00</td>\n",
       "      <td>3279.00</td>\n",
       "      <td>3279.00</td>\n",
       "      <td>3279.00</td>\n",
       "    </tr>\n",
       "    <tr>\n",
       "      <th>mean</th>\n",
       "      <td>0.00</td>\n",
       "      <td>0.01</td>\n",
       "      <td>0.00</td>\n",
       "      <td>0.00</td>\n",
       "      <td>0.00</td>\n",
       "      <td>0.01</td>\n",
       "      <td>0.00</td>\n",
       "      <td>0.00</td>\n",
       "      <td>0.01</td>\n",
       "      <td>0.00</td>\n",
       "      <td>...</td>\n",
       "      <td>0.01</td>\n",
       "      <td>0.00</td>\n",
       "      <td>0.00</td>\n",
       "      <td>0.00</td>\n",
       "      <td>0.00</td>\n",
       "      <td>0.01</td>\n",
       "      <td>0.01</td>\n",
       "      <td>0.01</td>\n",
       "      <td>0.01</td>\n",
       "      <td>0.00</td>\n",
       "    </tr>\n",
       "    <tr>\n",
       "      <th>std</th>\n",
       "      <td>0.07</td>\n",
       "      <td>0.11</td>\n",
       "      <td>0.07</td>\n",
       "      <td>0.06</td>\n",
       "      <td>0.06</td>\n",
       "      <td>0.11</td>\n",
       "      <td>0.06</td>\n",
       "      <td>0.07</td>\n",
       "      <td>0.10</td>\n",
       "      <td>0.07</td>\n",
       "      <td>...</td>\n",
       "      <td>0.08</td>\n",
       "      <td>0.07</td>\n",
       "      <td>0.06</td>\n",
       "      <td>0.05</td>\n",
       "      <td>0.06</td>\n",
       "      <td>0.08</td>\n",
       "      <td>0.11</td>\n",
       "      <td>0.12</td>\n",
       "      <td>0.10</td>\n",
       "      <td>0.04</td>\n",
       "    </tr>\n",
       "    <tr>\n",
       "      <th>min</th>\n",
       "      <td>0.00</td>\n",
       "      <td>0.00</td>\n",
       "      <td>0.00</td>\n",
       "      <td>0.00</td>\n",
       "      <td>0.00</td>\n",
       "      <td>0.00</td>\n",
       "      <td>0.00</td>\n",
       "      <td>0.00</td>\n",
       "      <td>0.00</td>\n",
       "      <td>0.00</td>\n",
       "      <td>...</td>\n",
       "      <td>0.00</td>\n",
       "      <td>0.00</td>\n",
       "      <td>0.00</td>\n",
       "      <td>0.00</td>\n",
       "      <td>0.00</td>\n",
       "      <td>0.00</td>\n",
       "      <td>0.00</td>\n",
       "      <td>0.00</td>\n",
       "      <td>0.00</td>\n",
       "      <td>0.00</td>\n",
       "    </tr>\n",
       "    <tr>\n",
       "      <th>25%</th>\n",
       "      <td>0.00</td>\n",
       "      <td>0.00</td>\n",
       "      <td>0.00</td>\n",
       "      <td>0.00</td>\n",
       "      <td>0.00</td>\n",
       "      <td>0.00</td>\n",
       "      <td>0.00</td>\n",
       "      <td>0.00</td>\n",
       "      <td>0.00</td>\n",
       "      <td>0.00</td>\n",
       "      <td>...</td>\n",
       "      <td>0.00</td>\n",
       "      <td>0.00</td>\n",
       "      <td>0.00</td>\n",
       "      <td>0.00</td>\n",
       "      <td>0.00</td>\n",
       "      <td>0.00</td>\n",
       "      <td>0.00</td>\n",
       "      <td>0.00</td>\n",
       "      <td>0.00</td>\n",
       "      <td>0.00</td>\n",
       "    </tr>\n",
       "    <tr>\n",
       "      <th>50%</th>\n",
       "      <td>0.00</td>\n",
       "      <td>0.00</td>\n",
       "      <td>0.00</td>\n",
       "      <td>0.00</td>\n",
       "      <td>0.00</td>\n",
       "      <td>0.00</td>\n",
       "      <td>0.00</td>\n",
       "      <td>0.00</td>\n",
       "      <td>0.00</td>\n",
       "      <td>0.00</td>\n",
       "      <td>...</td>\n",
       "      <td>0.00</td>\n",
       "      <td>0.00</td>\n",
       "      <td>0.00</td>\n",
       "      <td>0.00</td>\n",
       "      <td>0.00</td>\n",
       "      <td>0.00</td>\n",
       "      <td>0.00</td>\n",
       "      <td>0.00</td>\n",
       "      <td>0.00</td>\n",
       "      <td>0.00</td>\n",
       "    </tr>\n",
       "    <tr>\n",
       "      <th>75%</th>\n",
       "      <td>0.00</td>\n",
       "      <td>0.00</td>\n",
       "      <td>0.00</td>\n",
       "      <td>0.00</td>\n",
       "      <td>0.00</td>\n",
       "      <td>0.00</td>\n",
       "      <td>0.00</td>\n",
       "      <td>0.00</td>\n",
       "      <td>0.00</td>\n",
       "      <td>0.00</td>\n",
       "      <td>...</td>\n",
       "      <td>0.00</td>\n",
       "      <td>0.00</td>\n",
       "      <td>0.00</td>\n",
       "      <td>0.00</td>\n",
       "      <td>0.00</td>\n",
       "      <td>0.00</td>\n",
       "      <td>0.00</td>\n",
       "      <td>0.00</td>\n",
       "      <td>0.00</td>\n",
       "      <td>0.00</td>\n",
       "    </tr>\n",
       "    <tr>\n",
       "      <th>max</th>\n",
       "      <td>1.00</td>\n",
       "      <td>1.00</td>\n",
       "      <td>1.00</td>\n",
       "      <td>1.00</td>\n",
       "      <td>1.00</td>\n",
       "      <td>1.00</td>\n",
       "      <td>1.00</td>\n",
       "      <td>1.00</td>\n",
       "      <td>1.00</td>\n",
       "      <td>1.00</td>\n",
       "      <td>...</td>\n",
       "      <td>1.00</td>\n",
       "      <td>1.00</td>\n",
       "      <td>1.00</td>\n",
       "      <td>1.00</td>\n",
       "      <td>1.00</td>\n",
       "      <td>1.00</td>\n",
       "      <td>1.00</td>\n",
       "      <td>1.00</td>\n",
       "      <td>1.00</td>\n",
       "      <td>1.00</td>\n",
       "    </tr>\n",
       "  </tbody>\n",
       "</table>\n",
       "<p>8 rows × 1554 columns</p>\n",
       "</div>"
      ],
      "text/plain": [
       "       url*images+buttons  url*likesbooks.com  url*www.slake.com  \\\n",
       "count             3279.00             3279.00            3279.00   \n",
       "mean                 0.00                0.01               0.00   \n",
       "std                  0.07                0.11               0.07   \n",
       "min                  0.00                0.00               0.00   \n",
       "25%                  0.00                0.00               0.00   \n",
       "50%                  0.00                0.00               0.00   \n",
       "75%                  0.00                0.00               0.00   \n",
       "max                  1.00                1.00               1.00   \n",
       "\n",
       "       url*hydrogeologist  url*oso  url*media  url*peace+images  \\\n",
       "count             3279.00  3279.00    3279.00           3279.00   \n",
       "mean                 0.00     0.00       0.01              0.00   \n",
       "std                  0.06     0.06       0.11              0.06   \n",
       "min                  0.00     0.00       0.00              0.00   \n",
       "25%                  0.00     0.00       0.00              0.00   \n",
       "50%                  0.00     0.00       0.00              0.00   \n",
       "75%                  0.00     0.00       0.00              0.00   \n",
       "max                  1.00     1.00       1.00              1.00   \n",
       "\n",
       "       url*blipverts  url*tkaine+kats  url*labyrinth  ...  caption*of  \\\n",
       "count        3279.00          3279.00        3279.00  ...     3279.00   \n",
       "mean            0.00             0.01           0.00  ...        0.01   \n",
       "std             0.07             0.10           0.07  ...        0.08   \n",
       "min             0.00             0.00           0.00  ...        0.00   \n",
       "25%             0.00             0.00           0.00  ...        0.00   \n",
       "50%             0.00             0.00           0.00  ...        0.00   \n",
       "75%             0.00             0.00           0.00  ...        0.00   \n",
       "max             1.00             1.00           1.00  ...        1.00   \n",
       "\n",
       "       caption*home  caption*my  caption*your  caption*in  caption*bytes  \\\n",
       "count       3279.00     3279.00       3279.00     3279.00        3279.00   \n",
       "mean           0.00        0.00          0.00        0.00           0.01   \n",
       "std            0.07        0.06          0.05        0.06           0.08   \n",
       "min            0.00        0.00          0.00        0.00           0.00   \n",
       "25%            0.00        0.00          0.00        0.00           0.00   \n",
       "50%            0.00        0.00          0.00        0.00           0.00   \n",
       "75%            0.00        0.00          0.00        0.00           0.00   \n",
       "max            1.00        1.00          1.00        1.00           1.00   \n",
       "\n",
       "       caption*here  caption*click  caption*for  caption*you  \n",
       "count       3279.00        3279.00      3279.00      3279.00  \n",
       "mean           0.01           0.01         0.01         0.00  \n",
       "std            0.11           0.12         0.10         0.04  \n",
       "min            0.00           0.00         0.00         0.00  \n",
       "25%            0.00           0.00         0.00         0.00  \n",
       "50%            0.00           0.00         0.00         0.00  \n",
       "75%            0.00           0.00         0.00         0.00  \n",
       "max            1.00           1.00         1.00         1.00  \n",
       "\n",
       "[8 rows x 1554 columns]"
      ]
     },
     "execution_count": 52,
     "metadata": {},
     "output_type": "execute_result"
    }
   ],
   "source": [
    "data.describe().round(2)"
   ]
  },
  {
   "cell_type": "markdown",
   "id": "fad9ae20-79d2-4c5f-b815-ab1ee5fb7e60",
   "metadata": {},
   "source": [
    "**Since our non-binary features are encoded with string literals instead of integers, we want to convert these columns to integer columns.  This requires dealing with '?' values for observations in which height, width, and/or local values are unknown.**"
   ]
  },
  {
   "cell_type": "code",
   "execution_count": null,
   "id": "f2171dcc-36d0-4e0b-b5d5-34f50efd0213",
   "metadata": {},
   "outputs": [
    {
     "name": "stdout",
     "output_type": "stream",
     "text": [
      "[' 125' '  57' '  33' '  60' '  59' '   ?' '  90' '  30' '  35' '  72'\n",
      " '  50' ' 120' '   2' '  65' '  44' '  80' '  64' '  31' ' 100' '  74'\n",
      " '  93' '  21' '  20' '  55' ' 135' '  26' ' 136' ' 124' '  52' '  45'\n",
      " ' 165' '  25' ' 105' '  88' '  73' '  43' ' 477' '  70' '  40' ' 240'\n",
      " '  51' '  68' ' 171' '  71' '  29' '  38' '  36' '  46' '  12' '  95'\n",
      " '  41' '  96' '  16' ' 150' ' 159' ' 110' ' 161' '  15' ' 195' '  11'\n",
      " ' 114' ' 160' '  63' ' 134' '  24' '  62' ' 106' ' 200' '  39' ' 115'\n",
      " '  75' '  10' ' 207' '  32' '  27' '  48' ' 107' '  28' '  23' '  54'\n",
      " ' 102' ' 149' ' 119' '  76' '  79' ' 158' ' 154' '   8' ' 153' '  83'\n",
      " ' 174' ' 156' ' 128' '  14' ' 172' ' 104' ' 146' '  98' ' 144' ' 175'\n",
      " ' 116' ' 145' '  99' ' 220' ' 185' '  34' ' 239' ' 140' ' 262' ' 142'\n",
      " ' 191' '  22' '  87' ' 257' '  66' ' 108' ' 359' '  85' ' 132' ' 237'\n",
      " ' 131' '  58' '  78' ' 212' '  18' ' 123' '  92' ' 148' '  84' ' 133'\n",
      " ' 152' '  69' '  94' '  82' ' 214' '  49' '  61' '  89' '  56' ' 193'\n",
      " '  77' '  13' ' 306' ' 113' ' 213' ' 187' '  86' ' 118' '  47' ' 351'\n",
      " '  37' ' 216' ' 276' '  42' '  81' ' 162' ' 138' ' 225' ' 362' ' 170'\n",
      " ' 293' ' 211' ' 180' ' 258' ' 103' ' 169' '  67' '  53' ' 109' ' 205'\n",
      " '  19' ' 227' ' 111' ' 129' ' 151' ' 480' ' 112' ' 350' '  91' ' 246'\n",
      " ' 141' ' 101' ' 640' ' 228' ' 177' ' 234' ' 254' ' 210' '   1' ' 292'\n",
      " ' 311' ' 329' ' 176' ' 328' '  17' ' 236' ' 143' ' 204' ' 324' ' 173'\n",
      " ' 325' ' 181' ' 245' ' 194' ' 230' ' 300' ' 137' ' 196' ' 178' ' 222'\n",
      " ' 117' ' 209' ' 308' ' 199' ' 224' ' 226' ' 163' '  97' ' 183' ' 147'\n",
      " ' 184']\n",
      "[' 125' ' 468' ' 230' ' 460' ' 234' '   ?' '  52' '  60' ' 585' '  88'\n",
      " ' 120' ' 392' ' 107' '   2' ' 127' '  80' ' 231' ' 100' '  54' '  96'\n",
      " ' 147' '  95' ' 188' '  58' ' 126' ' 159' ' 183' ' 400' '  93' '  83'\n",
      " ' 476' '  90' '  75' ' 225' '  69' ' 261' ' 270' ' 142' ' 370' ' 455'\n",
      " ' 200' ' 309' '  89' ' 129' ' 470' '  43' ' 345' ' 150' ' 520' ' 433'\n",
      " ' 164' ' 215' ' 510' ' 612' ' 227' ' 440' ' 130' ' 430' ' 148' ' 280'\n",
      " ' 264' ' 416' ' 216' ' 144' ' 109' '  57' '  36' '  92' ' 239' ' 218'\n",
      " '  16' ' 209' ' 117' ' 111' ' 220' ' 288' '  50' ' 140' ' 199' ' 110'\n",
      " ' 184' ' 106' '  64' ' 250' ' 116' '  35' '  46' ' 205' '  45' ' 101'\n",
      " ' 600' '  32' '  41' ' 178' ' 260' '  51' '  40' '  74' '  26' '  30'\n",
      " ' 119' ' 299' ' 179' ' 182' ' 162' ' 108' '  82' ' 124' ' 186' ' 152'\n",
      " ' 242' ' 139' ' 104' ' 141' '  94' ' 156' ' 163' '  10' ' 238' ' 102'\n",
      " ' 198' '  86' ' 105' ' 122' ' 113' ' 151' ' 236' ' 172' ' 133' '  98'\n",
      " ' 134' ' 190' ' 170' ' 243' ' 112' '  15' ' 158' ' 237' '  37' ' 146'\n",
      " ' 224' '  42' ' 135' ' 201' ' 203' '  25' ' 191' ' 137' ' 229' ' 255'\n",
      " '  67' ' 160' '  11' '  73' ' 196' '  59' '  21' ' 185' '  77' ' 176'\n",
      " '  48' '  70' '  38' ' 404' ' 194' ' 161' '  66' '  84' '  63' ' 128'\n",
      " ' 466' '  56' ' 180' '  61' '  71' ' 212' ' 202' '  72' ' 123' '  78'\n",
      " ' 149' ' 372' '  87' ' 204' '  44' '  55' ' 240' ' 165' ' 145' ' 290'\n",
      " ' 394' ' 211' '  76' ' 210' ' 114' ' 103' '  85' '  79' '  24' '  47'\n",
      " ' 494' ' 259' ' 174' ' 192' ' 319' '  20' '  62' ' 166' ' 175' '  97'\n",
      " ' 187' ' 350' ' 207' '  34' '  81' ' 437' ' 257' '  99' '  53' ' 143'\n",
      " '  65' ' 450' ' 325' ' 393' ' 115' ' 275' '  31' '  91' ' 252' ' 640'\n",
      " '  19' '  33' ' 289' ' 590' ' 167' ' 419' ' 505' ' 389' ' 136' ' 157'\n",
      " ' 285' '   1' ' 214' '  49' ' 373' ' 241' ' 248' '  68' ' 244' ' 155'\n",
      " ' 367' ' 399' ' 408' ' 173' ' 360' ' 245' ' 213' ' 412' ' 195' '  18'\n",
      " ' 223' ' 397' ' 132' ' 254' ' 118' ' 300' ' 233' ' 484' ' 296' ' 273'\n",
      " ' 277' ' 177' ' 328' ' 331' ' 337' ' 206' ' 222' ' 153']\n",
      "['   1.0' '8.2105' '6.9696' '   7.8' '7.7966' '   3.9' '     ?' '0.5777'\n",
      " '0.6666' '  19.5' '1.4666' '   2.0' '3.5714' '5.4444' '  2.14' '1.0416'\n",
      " '1.9230' '2.8863' '3.6093' '2.8387' '0.7297' '3.0967' '1.5806' '1.5833'\n",
      " '8.9523' '   2.9' '8.3636' '0.9333' '   5.3' '8.7142' '   8.0' '  18.0'\n",
      " '0.6838' '0.9677' '  4.15' '9.1538' '2.2222' '0.5454' '   3.0' '2.1428'\n",
      " '6.6666' '0.9452' '1.3333' '2.8064' '8.1818' '4.3030' '5.3488' '   7.4'\n",
      " '   9.1' '  6.18' '1.4833' '0.2704' '6.7142' '0.7166' '  10.0' '7.6666'\n",
      " '2.9032' '   2.5' '5.9090' '   0.5' '8.4901' '2.7796' '2.3888' '   5.1'\n",
      " '   9.0' '1.3274' '7.3333' '2.1666' '7.1666' '2.3098' '5.1034' '4.6666'\n",
      " '6.9473' '7.5636' '   6.0' '2.3695' '  4.75' '1.5789' '4.3333' '1.0285'\n",
      " '  1.15' '   4.5' '5.8292' '2.2708' '   1.5' '1.3144' '  9.75' '1.0090'\n",
      " '1.3664' '1.4769' '8.7272' '1.2280' '  1.16' '1.2437' '1.7460' '1.3731'\n",
      " '0.7851' '  1.25' '2.7692' ' 3.125' '0.6736' '1.4193' '1.7264' '   5.8'\n",
      " '0.6862' '3.0769' '1.0545' '8.0909' '  1.95' '1.7826' '  1.86' '   4.0'\n",
      " '2.6666' '   0.9' '8.4166' '  60.0' '0.9661' '1.5185' '5.8181' '4.1395'\n",
      " '   5.5' '1.6666' '1.1214' '5.0980' '1.3380' '6.3055' '  0.85' '1.2666'\n",
      " '  3.25' '2.6428' '1.1304' '2.3333' '1.3043' '0.7391' '  5.75' '4.4259'\n",
      " '1.7549' '1.2214' '10.125' '2.3870' '2.1739' '1.2605' '1.4210' '1.8987'\n",
      " '0.6835' ' 10.25' '3.7575' '1.2156' ' 8.125' '1.8072' '0.8735' '1.5512'\n",
      " '1.5625' '   4.6' '0.8081' '8.0740' '0.9657' '1.6923' '0.7111' '0.8116'\n",
      " '8.5454' '   5.0' '1.5918' '5.3571' '6.2692' '0.8611' '0.8457' '1.7241'\n",
      " '1.0206' '1.4875' '   8.5' '2.0204' '1.4545' ' 0.875' '1.1111' '  1.21'\n",
      " '1.6129' '0.6594' '3.3235' '  4.96' '0.6150' '2.5217' '3.4482' '  7.55'\n",
      " '9.8333' '1.2285' '0.8587' '6.3333' '0.9259' '1.3943' '8.1666' '1.8518'\n",
      " '0.7539' '5.5217' '6.8181' '   6.7' '1.0804' '0.7392' '2.5757' '  0.75'\n",
      " '4.0980' '0.6768' '5.3333' '1.3826' '0.9028' '2.7882' '1.5151' '0.9312'\n",
      " '0.6491' '1.2708' '2.5862' '  1.64' '1.9210' '1.2948' '1.2111' '6.7878'\n",
      " '0.9649' '   3.6' '1.4062' '0.9481' '0.8421' '1.8796' '10.6111' '   3.5'\n",
      " '1.1138' '2.1203' '1.0434' '1.4615' '  3.12' '1.3513' '4.4571' '2.7717'\n",
      " '1.1166' '1.1388' '3.2558' '0.7142' '   1.6' '0.8690' '0.9022' '1.2727'\n",
      " '0.7631' '  20.0' '1.1172' '0.8428' '   7.5' '1.4961' '1.0869' '1.9680'\n",
      " '0.9390' '0.7009' '1.4111' '1.3673' '1.0555' ' 6.625' '9.1818' '0.7866'\n",
      " '1.4705' '0.8333' '3.1803' '   1.2' '1.2105' '1.0138' '1.5614' '2.1008'\n",
      " '4.7619' '1.1724' '0.7764' '   4.2' '   1.4' '2.4687' '2.0645' '2.0689'\n",
      " '4.8541' '  1.02' '0.9325' '0.8636' '0.9326' '0.8591' '3.1568' '2.6393'\n",
      " '1.8434' '4.4117' '3.3666' '0.3472' '  30.0' '1.0540' '  1.49' '19.6153'\n",
      " '  2.75' '1.0357' '1.8053' '0.7894' '0.9523' '1.2941' '5.1153' '0.8461'\n",
      " '3.9411' '1.1267' '1.2222' '1.0476' '3.0434' '2.2307' '1.6574' '1.5508'\n",
      " '1.6071' '2.9302' '3.8888' '2.2857' '2.9069' '2.5921' '4.9069' '1.4901'\n",
      " '1.5428' '1.9090' '4.4074' '3.2063' '1.0909' '1.2980' '1.5932' '1.0454'\n",
      " '0.6279' '1.3981' '0.7333' '3.0533' '2.0454' '9.0909' '1.2616' '   3.2'\n",
      " '3.1818' '0.9466' '1.1904' '6.8461' '  5.32' '1.9591' '0.7808' '1.0404'\n",
      " '  0.78' '1.0625' '4.8181' '1.0666' '0.9733' '0.8111' '0.8771' '1.4516'\n",
      " '0.6694' '1.0697' '1.0202' '1.0444' '1.1125' '0.7575' '0.9743' '0.8484'\n",
      " '1.0714' '1.0638' '1.0375' '   4.8' '  8.75' '0.5125' '1.4074' '1.6341'\n",
      " '  1.76' '1.0681' '2.5405' '8.0937' '1.8315' '0.7638' '5.8378' '8.7878'\n",
      " '  0.76' '2.3414' '1.7272' '9.9687' '0.9777' '0.2142' '4.4666' '0.8933'\n",
      " '1.4912' '0.5434' '1.6304' '1.7714' '0.2884' '1.3833' '36.3636' '7.1333'\n",
      " '2.0869' '7.0833' '2.5116' '2.3809' '  2.55' '2.9024' '  1.78' '8.8571'\n",
      " '  0.88' '1.0493' '7.4166' '1.8229' '  1.75' '1.6530' '3.7037' '0.8181'\n",
      " '5.5172' '1.0072' '2.5531' '1.2933' '5.3428' '0.9668' ' 1.525' '1.4222'\n",
      " '1.4878' '  2.15' '3.8571' '5.5964' '0.2606' '1.5866' '4.9166' '5.8571'\n",
      " ' 2.775' '4.1714' '1.4285' '3.6129' '  6.25' '1.2987' '1.2176' '0.5972'\n",
      " '1.5925' '   3.4' '0.6512' '  3.75' '  1.62' '4.4141' '0.9385' '0.9532'\n",
      " ' 3.225' '5.0625' '2.8695' '0.9952' '1.2444' '0.9651' '4.2105' '0.9961'\n",
      " '1.8205' '   3.8' '2.8285' '1.0238' '0.9302' '   2.1' '1.3714' '0.8932'\n",
      " '0.5562' '1.5306' '1.0185' '0.9444' '1.5522' '0.9767' ' 5.375' '1.0789'\n",
      " ' 5.625' '3.6666' '1.0370' '2.6875' '4.7666' '0.9619' '0.9166' '2.6511'\n",
      " '1.1578' '0.9908' '0.9756' '1.7755' '0.7222' '3.0327' '23.6842' '2.4285'\n",
      " '4.7101' '1.7857' '5.5454' '3.5727' '11.3636' '1.0655' '8.2285' '1.3529'\n",
      " '0.7929' '2.2549' ' 3.375' '1.4423' '  1.32' '0.9909' '  1.24' '1.9354'\n",
      " '1.2448' '5.2105' '0.8348' '2.7714' '1.1550' '2.6026' '1.8285' '4.3448'\n",
      " '0.9734' '0.8490' '  0.89' '0.9722' '1.5686' '3.9117' '0.9459' '1.9047'\n",
      " '   1.9' '  1.72' '7.9310' '0.7765' '0.6923' '0.9821' '0.7875' '1.5629'\n",
      " '5.0526' '0.9482' '3.0744' '  1.08' '0.9285' '4.5833' '0.6057' '   4.4'\n",
      " ' 14.75' '  1.67' '1.0243' '1.3253' '0.6909' '0.2083' '4.1333' '6.1666'\n",
      " '1.9780' '1.2857' '   2.4' '0.7317' ' 5.925' '8.2142' '4.6153' '2.9761'\n",
      " '6.8125' '2.9716' '0.6770' '8.1785' '  5.05' ' 1.125' '  0.95' '3.8514'\n",
      " '   0.8' '1.0232' '1.1525' '3.6511' ' 1.075' '4.9137' '0.8372' '9.3913'\n",
      " '2.5263' '0.8260' '2.3076' '3.3333' '1.4492' '2.8888' '1.4466' '7.1111'\n",
      " '2.2558' '1.0777' '   1.1' '0.0015' '6.6875' '  0.83' '2.4096' '1.3207'\n",
      " '0.4385' '1.2048' '0.8474' '1.0425' '1.5220' '1.0875' '0.8266' ' 0.975'\n",
      " '0.9189' '9.7894' '0.9316' '2.3306' ' 1.175' '5.8695' '5.2535' '  0.72'\n",
      " '9.7826' '0.6470' '1.0194' '3.2571' '1.1447' '  1.45' '1.3636' '3.1666'\n",
      " '6.0526' '1.1875' '7.7741' '5.4666' '5.2380' '  7.75' '  1.11' '   1.7'\n",
      " '0.9894' '0.8346' '1.6181' '  2.72' '3.1718' '6.7419' '1.1619' '0.9705'\n",
      " '1.1226' '1.2166' '3.9062' '2.0833' '  4.48' '0.5171' '2.3484' '1.1800'\n",
      " '0.7766' '1.9473' '  1.84' '0.6291' '5.0972' '  9.55' ' 9.975' '4.8051'\n",
      " '1.0606' '2.3181' '1.0947' '0.3658' '1.4025' '5.7647' '3.7608' '4.2608'\n",
      " '   4.3' '2.2352' '4.7857' '2.5641' '0.8952' '5.4545' '1.5123' '0.7947'\n",
      " '0.9067' '8.3333' '1.3921' '9.8095' '4.6923' '1.7820' '1.4965' '2.7037'\n",
      " '0.5747' '0.9558' '2.4444' '  3.32' '1.7179' '10.4545' '3.0833' '3.9444'\n",
      " '  0.84' '3.8461' '7.7857' '1.5037' '0.6481' '0.7861' '1.6159' '1.1363'\n",
      " '1.2215' '1.0076' '1.8014' '5.5833' '3.4375' '2.1020' '4.1666' '4.2142'\n",
      " '1.2815' '1.1049' '1.2761' '1.6689' '0.8163' '0.7542' '  1.88' '1.3157'\n",
      " '1.3388' '0.9818' '0.9020' '1.5267' '0.9484' ' 1.005' '0.8695' '1.3793'\n",
      " '0.8627' '0.9848' '6.3636' '15.625' '  1.05' ' 0.895' '1.0948' '1.3783'\n",
      " '0.9081' '0.6179' '0.9838' '2.5555' '1.4636' '1.4814' ' 1.025' '1.3262'\n",
      " '1.9914' '0.9569' '0.4058' '2.4321' '1.4583' '1.2278' '2.7173' '1.1851'\n",
      " '4.0952' '4.9333' '1.7563' '1.3178' '2.6504' '1.7123' '9.2727' '1.1060'\n",
      " '2.3265' '0.9107' '1.2256' '0.8074' '1.0061' '1.0119' '2.1111' '4.5294'\n",
      " '3.2181' '1.3466' '3.0927' '6.4814' '1.0094' '1.3225' '2.3157' '3.2666'\n",
      " '0.7012' '1.1908' '2.3437' '1.1473' '1.2773' '2.7272' '4.2857' '0.8148'\n",
      " '1.1879' '1.0758' '  33.1' '4.1097' '0.9545' '0.9829' '0.5933' '1.1666'\n",
      " '  2.25' '1.1562' '0.8670' '2.4375' '  12.5' '1.0312' '1.5454' '0.8688'\n",
      " '1.0091' '1.4013' '2.3617' '1.0833' '2.3368' '3.0882' '1.3906' '0.8315'\n",
      " '1.3831' '1.6521' '0.7608' '1.3222' '1.5202' '1.2253' '1.0821' '1.1029'\n",
      " '1.2151' '1.0377' '0.5529' '1.3861' '5.2173']\n",
      "['1' '0' '?']\n"
     ]
    }
   ],
   "source": [
    "print(data.height.unique())\n",
    "print(data.width.unique())\n",
    "print(data.aratio.unique())\n",
    "print(data.local.unique())"
   ]
  },
  {
   "cell_type": "markdown",
   "id": "be0048e9-781a-4b0f-8c47-6f93a179c9f4",
   "metadata": {},
   "source": [
    "## Feature Imputing"
   ]
  },
  {
   "cell_type": "markdown",
   "id": "c28d5319-e90f-4622-803a-d524adb655a1",
   "metadata": {},
   "source": [
    "**We want to find out how many of the observations have unknown values to determine how to drop or impute them appropriately.**"
   ]
  },
  {
   "cell_type": "code",
   "execution_count": null,
   "id": "0ed2bf1b-4e1b-4d6f-85b6-c354efe281a5",
   "metadata": {},
   "outputs": [
    {
     "name": "stdout",
     "output_type": "stream",
     "text": [
      "Number of entries with unknown height: 903 out of 3279 (27.54%)\n",
      "Number of entries with unknown width: 901 out of 3279 (27.48%)\n",
      "Number of entries with unknown local: 15 out of 3279 (0.46%)\n",
      "Number of entries with unknown aratio: 910 out of 3279 (27.75%)\n"
     ]
    }
   ],
   "source": [
    "valid_height = pd.to_numeric(data.height[data.height != '   ?'])\n",
    "valid_width = pd.to_numeric(data.width[data.width != '   ?'])\n",
    "valid_local = pd.to_numeric(data.local[data.local != '?'])\n",
    "valid_aratio = pd.to_numeric(data.aratio[data.aratio != '     ?'])\n",
    "\n",
    "invalid_height = data.height[data.height == '   ?']\n",
    "invalid_width = data.width[data.width == '   ?']\n",
    "invalid_local = data.local[data.local == '?']\n",
    "invalid_aratio = data.aratio[data.aratio == '     ?']\n",
    "\n",
    "print(\"Number of entries with unknown height: \"+str(len(invalid_height))+\" out of 3279 (\"+str(round(100*len(invalid_height)/3279, 2))+\"%)\")\n",
    "print(\"Number of entries with unknown width: \"+str(len(invalid_width))+\" out of 3279 (\"+str(round(100*len(invalid_width)/3279, 2))+\"%)\")\n",
    "print(\"Number of entries with unknown local: \"+str(len(invalid_local))+\" out of 3279 (\"+str(round(100*len(invalid_local)/3279, 2))+\"%)\")\n",
    "print(\"Number of entries with unknown aratio: \"+str(len(invalid_aratio))+\" out of 3279 (\"+str(round(100*len(invalid_aratio)/3279, 2))+\"%)\")"
   ]
  },
  {
   "cell_type": "markdown",
   "id": "992e7223-71b5-4e15-a39c-0909211eca2b",
   "metadata": {},
   "source": [
    "**Since there are a significant amount of entries missing height, width, and aratio data, we do not want to drop all observations missing these features.  We will instead impute them with the mean value of the respective columns to preserve more of our data.**\n",
    "\n",
    "**By contrast, the 'local' variable has invalid values for less than 1% of entries, so we will simply drop them, as we do not want to impute using mean values for a binary variable, and we will not lose much of our data.**"
   ]
  },
  {
   "cell_type": "code",
   "execution_count": null,
   "id": "bb2bbbc1-2314-4ad4-9b3d-3351cd57c146",
   "metadata": {},
   "outputs": [
    {
     "data": {
      "text/plain": [
       "(64, 155, 3)"
      ]
     },
     "execution_count": 55,
     "metadata": {},
     "output_type": "execute_result"
    }
   ],
   "source": [
    "height_mean = int(valid_height.mean())\n",
    "width_mean = int(valid_width.mean())\n",
    "aratio_mean = int(valid_aratio.mean())\n",
    "height_mean, width_mean, aratio_mean"
   ]
  },
  {
   "cell_type": "markdown",
   "id": "2399eca4-feaf-4c90-b1f4-a35a2faa9786",
   "metadata": {},
   "source": [
    "**Impute height and width unknowns with mean values, and drop unknown local values**"
   ]
  },
  {
   "cell_type": "code",
   "execution_count": null,
   "id": "31a37731-09b8-4fd9-a806-5ee5cef7532a",
   "metadata": {},
   "outputs": [
    {
     "name": "stderr",
     "output_type": "stream",
     "text": [
      "/tmp/ipykernel_294385/837734531.py:1: SettingWithCopyWarning: \n",
      "A value is trying to be set on a copy of a slice from a DataFrame\n",
      "\n",
      "See the caveats in the documentation: https://pandas.pydata.org/pandas-docs/stable/user_guide/indexing.html#returning-a-view-versus-a-copy\n",
      "  data.height.loc[data.height == '   ?'] = height_mean\n",
      "/tmp/ipykernel_294385/837734531.py:2: SettingWithCopyWarning: \n",
      "A value is trying to be set on a copy of a slice from a DataFrame\n",
      "\n",
      "See the caveats in the documentation: https://pandas.pydata.org/pandas-docs/stable/user_guide/indexing.html#returning-a-view-versus-a-copy\n",
      "  data.width.loc[data.width == '   ?'] = width_mean\n",
      "/tmp/ipykernel_294385/837734531.py:3: SettingWithCopyWarning: \n",
      "A value is trying to be set on a copy of a slice from a DataFrame\n",
      "\n",
      "See the caveats in the documentation: https://pandas.pydata.org/pandas-docs/stable/user_guide/indexing.html#returning-a-view-versus-a-copy\n",
      "  data.aratio.loc[data.aratio == '     ?'] = aratio_mean\n"
     ]
    }
   ],
   "source": [
    "data.loc[data.height == '   ?'][\"height\"] = height_mean\n",
    "data.loc[data.width == '   ?'][\"width\"] = width_mean\n",
    "data.loc[data.aratio == '     ?'][\"aratio\"] = aratio_mean\n",
    "data = data[data.local != '   ?']\n",
    "data = data[data.local != '?']"
   ]
  },
  {
   "cell_type": "markdown",
   "id": "1c81b469-6392-49dd-bf07-700a0a9fea08",
   "metadata": {},
   "source": [
    "## Feature Encoding"
   ]
  },
  {
   "cell_type": "markdown",
   "id": "a0b6af71-60d0-4f94-9181-9745e457719f",
   "metadata": {},
   "source": [
    "**Encode ad/non-ad label as binary label**"
   ]
  },
  {
   "cell_type": "code",
   "execution_count": null,
   "id": "267dfd8e-5176-47fb-8410-0cdc2dace66e",
   "metadata": {},
   "outputs": [
    {
     "data": {
      "text/plain": [
       "array(['ad.', 'nonad.'], dtype=object)"
      ]
     },
     "execution_count": 57,
     "metadata": {},
     "output_type": "execute_result"
    }
   ],
   "source": [
    "data.ad.unique()"
   ]
  },
  {
   "cell_type": "code",
   "execution_count": null,
   "id": "22f8293a-ffa0-4195-820b-c550eccdded2",
   "metadata": {},
   "outputs": [],
   "source": [
    "data['is_ad'] = data.ad == 'ad.'\n",
    "data = data.drop(columns = 'ad')"
   ]
  },
  {
   "cell_type": "markdown",
   "id": "141eac5c-2d6a-40ca-ad82-3db2e0bde95e",
   "metadata": {},
   "source": [
    "**Convert imputed df to numeric formatting**"
   ]
  },
  {
   "cell_type": "code",
   "execution_count": null,
   "id": "4618e17f-8426-4c11-be63-594cd8319e43",
   "metadata": {},
   "outputs": [],
   "source": [
    "data = data.apply(pd.to_numeric)"
   ]
  },
  {
   "cell_type": "markdown",
   "id": "7fd475e6-44ae-45d4-9aaf-9d674d93d358",
   "metadata": {},
   "source": [
    "**Visualize non-binary variable distribution between ads and non-ads**"
   ]
  },
  {
   "cell_type": "code",
   "execution_count": null,
   "id": "65187808-6ffe-4f2f-9ad2-20ca66c52794",
   "metadata": {},
   "outputs": [],
   "source": [
    "pair = data[['height', 'width', 'aratio', 'is_ad']]\n",
    "hist = data[['aratio', 'is_ad']]"
   ]
  },
  {
   "cell_type": "code",
   "execution_count": null,
   "id": "41fa7d45-cbd1-4582-8299-d31873c5455e",
   "metadata": {},
   "outputs": [
    {
     "data": {
      "text/html": [
       "<div>\n",
       "<style scoped>\n",
       "    .dataframe tbody tr th:only-of-type {\n",
       "        vertical-align: middle;\n",
       "    }\n",
       "\n",
       "    .dataframe tbody tr th {\n",
       "        vertical-align: top;\n",
       "    }\n",
       "\n",
       "    .dataframe thead th {\n",
       "        text-align: right;\n",
       "    }\n",
       "</style>\n",
       "<table border=\"1\" class=\"dataframe\">\n",
       "  <thead>\n",
       "    <tr style=\"text-align: right;\">\n",
       "      <th></th>\n",
       "      <th>height</th>\n",
       "      <th>width</th>\n",
       "      <th>aratio</th>\n",
       "      <th>is_ad</th>\n",
       "    </tr>\n",
       "  </thead>\n",
       "  <tbody>\n",
       "    <tr>\n",
       "      <th>0</th>\n",
       "      <td>125</td>\n",
       "      <td>125</td>\n",
       "      <td>1.00</td>\n",
       "      <td>True</td>\n",
       "    </tr>\n",
       "    <tr>\n",
       "      <th>1</th>\n",
       "      <td>57</td>\n",
       "      <td>468</td>\n",
       "      <td>8.21</td>\n",
       "      <td>True</td>\n",
       "    </tr>\n",
       "    <tr>\n",
       "      <th>2</th>\n",
       "      <td>33</td>\n",
       "      <td>230</td>\n",
       "      <td>6.97</td>\n",
       "      <td>True</td>\n",
       "    </tr>\n",
       "    <tr>\n",
       "      <th>3</th>\n",
       "      <td>60</td>\n",
       "      <td>468</td>\n",
       "      <td>7.80</td>\n",
       "      <td>True</td>\n",
       "    </tr>\n",
       "    <tr>\n",
       "      <th>4</th>\n",
       "      <td>60</td>\n",
       "      <td>468</td>\n",
       "      <td>7.80</td>\n",
       "      <td>True</td>\n",
       "    </tr>\n",
       "  </tbody>\n",
       "</table>\n",
       "</div>"
      ],
      "text/plain": [
       "   height  width  aratio  is_ad\n",
       "0     125    125    1.00   True\n",
       "1      57    468    8.21   True\n",
       "2      33    230    6.97   True\n",
       "3      60    468    7.80   True\n",
       "4      60    468    7.80   True"
      ]
     },
     "execution_count": 61,
     "metadata": {},
     "output_type": "execute_result"
    }
   ],
   "source": [
    "pair.head().round(2)"
   ]
  },
  {
   "cell_type": "code",
   "execution_count": null,
   "id": "3de879be-ef21-4e85-97f3-8d22f0f06fc1",
   "metadata": {},
   "outputs": [
    {
     "data": {
      "text/html": [
       "<div>\n",
       "<style scoped>\n",
       "    .dataframe tbody tr th:only-of-type {\n",
       "        vertical-align: middle;\n",
       "    }\n",
       "\n",
       "    .dataframe tbody tr th {\n",
       "        vertical-align: top;\n",
       "    }\n",
       "\n",
       "    .dataframe thead th {\n",
       "        text-align: right;\n",
       "    }\n",
       "</style>\n",
       "<table border=\"1\" class=\"dataframe\">\n",
       "  <thead>\n",
       "    <tr style=\"text-align: right;\">\n",
       "      <th></th>\n",
       "      <th>aratio</th>\n",
       "      <th>is_ad</th>\n",
       "    </tr>\n",
       "  </thead>\n",
       "  <tbody>\n",
       "    <tr>\n",
       "      <th>0</th>\n",
       "      <td>1.00</td>\n",
       "      <td>True</td>\n",
       "    </tr>\n",
       "    <tr>\n",
       "      <th>1</th>\n",
       "      <td>8.21</td>\n",
       "      <td>True</td>\n",
       "    </tr>\n",
       "    <tr>\n",
       "      <th>2</th>\n",
       "      <td>6.97</td>\n",
       "      <td>True</td>\n",
       "    </tr>\n",
       "    <tr>\n",
       "      <th>3</th>\n",
       "      <td>7.80</td>\n",
       "      <td>True</td>\n",
       "    </tr>\n",
       "    <tr>\n",
       "      <th>4</th>\n",
       "      <td>7.80</td>\n",
       "      <td>True</td>\n",
       "    </tr>\n",
       "  </tbody>\n",
       "</table>\n",
       "</div>"
      ],
      "text/plain": [
       "   aratio  is_ad\n",
       "0    1.00   True\n",
       "1    8.21   True\n",
       "2    6.97   True\n",
       "3    7.80   True\n",
       "4    7.80   True"
      ]
     },
     "execution_count": 62,
     "metadata": {},
     "output_type": "execute_result"
    }
   ],
   "source": [
    "hist.head().round(2)"
   ]
  },
  {
   "cell_type": "markdown",
   "id": "06a1db4e-8cc2-4658-9da2-fd2abda8f1ba",
   "metadata": {},
   "source": [
    "## Data Visualization"
   ]
  },
  {
   "cell_type": "code",
   "execution_count": null,
   "id": "5b03e61f-79d5-4020-99dd-5809d306354a",
   "metadata": {},
   "outputs": [
    {
     "data": {
      "text/plain": [
       "<seaborn.axisgrid.PairGrid at 0x7fc4071dbfd0>"
      ]
     },
     "execution_count": 63,
     "metadata": {},
     "output_type": "execute_result"
    },
    {
     "data": {
      "image/png": "[encoded data removed]",
      "text/plain": [
       "<Figure size 834.875x750 with 12 Axes>"
      ]
     },
     "metadata": {},
     "output_type": "display_data"
    }
   ],
   "source": [
    "sns.pairplot(pair, hue='is_ad', plot_kws=dict(size=0.5))"
   ]
  },
  {
   "cell_type": "markdown",
   "id": "75e5f187-7b08-43a1-b222-0484a3e7ecc6",
   "metadata": {},
   "source": [
    "**Note the different, non-normally distributed aspect ratio of ads, compared to the relatively normal distribution of non-ads**"
   ]
  },
  {
   "cell_type": "code",
   "execution_count": null,
   "id": "f38e57c7-451f-4028-8773-27dc19bf6648",
   "metadata": {},
   "outputs": [
    {
     "data": {
      "text/plain": [
       "<seaborn.axisgrid.PairGrid at 0x7fc3ffacce20>"
      ]
     },
     "execution_count": 64,
     "metadata": {},
     "output_type": "execute_result"
    },
    {
     "data": {
      "image/png": "[encoded data removed]",
      "text/plain": [
       "<Figure size 296.611x250 with 2 Axes>"
      ]
     },
     "metadata": {},
     "output_type": "display_data"
    }
   ],
   "source": [
    "sns.pairplot(hist, hue='is_ad', plot_kws=dict(size=0.5))"
   ]
  },
  {
   "cell_type": "code",
   "execution_count": null,
   "id": "dc1f94e7-de2d-4647-b0ad-c14c2d7ffd90",
   "metadata": {},
   "outputs": [
    {
     "data": {
      "text/plain": [
       "<AxesSubplot: >"
      ]
     },
     "execution_count": 65,
     "metadata": {},
     "output_type": "execute_result"
    },
    {
     "data": {
      "image/png": "[encoded data removed]",
      "text/plain": [
       "<Figure size 640x480 with 2 Axes>"
      ]
     },
     "metadata": {},
     "output_type": "display_data"
    }
   ],
   "source": [
    "corr = pair.corr()\n",
    "sns.heatmap(corr, vmin=-1, vmax=1, center=0, annot=True, cmap='RdBu')"
   ]
  },
  {
   "cell_type": "markdown",
   "id": "135591be-c269-4643-8aab-4a2f7cfb6ab3",
   "metadata": {},
   "source": [
    "**Image width is highly correlated with ad/non-ad classification, so we will implement this feature in future model generation**"
   ]
  },
  {
   "cell_type": "markdown",
   "id": "2196d3dd-b4db-4dd3-96d8-4f5c7cbaff8b",
   "metadata": {},
   "source": [
    "## Data splitting and scaling"
   ]
  },
  {
   "cell_type": "markdown",
   "id": "d81cf7f9-9c0d-4813-8da2-9b3c6a3a77be",
   "metadata": {},
   "source": [
    "**Since our continuous variables are not normally distributed, we do not want to implement standardization.  Instead, we will use a min-max scaler to scale our features, excluding those which are binary-encoded.**"
   ]
  },
  {
   "cell_type": "code",
   "execution_count": null,
   "id": "0c76f11a-63d8-438d-a8bd-95411c6807cd",
   "metadata": {},
   "outputs": [
    {
     "ename": "NameError",
     "evalue": "name 'RANDOM_STATE' is not defined",
     "output_type": "error",
     "traceback": [
      "\u001b[0;31m---------------------------------------------------------------------------\u001b[0m",
      "\u001b[0;31mNameError\u001b[0m                                 Traceback (most recent call last)",
      "Cell \u001b[0;32mIn[66], line 1\u001b[0m\n\u001b[0;32m----> 1\u001b[0m train, test \u001b[39m=\u001b[39m train_test_split(data, test_size\u001b[39m=\u001b[39m\u001b[39m0.2\u001b[39m, random_state\u001b[39m=\u001b[39mRANDOM_STATE)\n\u001b[1;32m      2\u001b[0m X_train, y_train \u001b[39m=\u001b[39m train\u001b[39m.\u001b[39mdrop(columns\u001b[39m=\u001b[39m[\u001b[39m'\u001b[39m\u001b[39mis_ad\u001b[39m\u001b[39m'\u001b[39m]), train[\u001b[39m'\u001b[39m\u001b[39mis_ad\u001b[39m\u001b[39m'\u001b[39m]\n\u001b[1;32m      3\u001b[0m X_test, y_test \u001b[39m=\u001b[39m test\u001b[39m.\u001b[39mdrop(columns\u001b[39m=\u001b[39m[\u001b[39m'\u001b[39m\u001b[39mis_ad\u001b[39m\u001b[39m'\u001b[39m]), test[\u001b[39m'\u001b[39m\u001b[39mis_ad\u001b[39m\u001b[39m'\u001b[39m]\n",
      "\u001b[0;31mNameError\u001b[0m: name 'RANDOM_STATE' is not defined"
     ]
    }
   ],
   "source": [
    "train, test = train_test_split(data, test_size=0.2, random_state=RANDOM_STATE)\n",
    "X_train, y_train = train.drop(columns=['is_ad']), train['is_ad']\n",
    "X_test, y_test = test.drop(columns=['is_ad']), test['is_ad']"
   ]
  },
  {
   "cell_type": "code",
   "execution_count": null,
   "id": "16bfbdda-a9f9-44ab-a9fc-0ed056e4de0a",
   "metadata": {},
   "outputs": [
    {
     "name": "stderr",
     "output_type": "stream",
     "text": [
      "/tmp/ipykernel_662472/14980002.py:1: FutureWarning: The behavior of `series[i:j]` with an integer-dtype index is deprecated. In a future version, this will be treated as *label-based* indexing, consistent with e.g. `series[i]` lookups. To retain the old behavior, use `series.iloc[i:j]`. To get the future behavior, use `series.loc[i:j]`.\n",
      "  X_train[0:2], y_train[0:2]\n"
     ]
    },
    {
     "data": {
      "text/plain": [
       "(      height  width  aratio  local  url*images+buttons  url*likesbooks.com  \\\n",
       " 2700      40     70  1.7500      1                   0                   0   \n",
       " 1399      49     96  1.9591      0                   0                   0   \n",
       " \n",
       "       url*www.slake.com  url*hydrogeologist  url*oso  url*media  ...  \\\n",
       " 2700                  0                   0        0          0  ...   \n",
       " 1399                  0                   0        0          0  ...   \n",
       " \n",
       "       caption*of  caption*home  caption*my  caption*your  caption*in  \\\n",
       " 2700           0             0           0             0           0   \n",
       " 1399           0             0           0             0           0   \n",
       " \n",
       "       caption*bytes  caption*here  caption*click  caption*for  caption*you  \n",
       " 2700              0             0              0            0            0  \n",
       " 1399              0             0              0            0            0  \n",
       " \n",
       " [2 rows x 1558 columns],\n",
       " 2700    False\n",
       " 1399    False\n",
       " Name: is_ad, dtype: bool)"
      ]
     },
     "execution_count": 19,
     "metadata": {},
     "output_type": "execute_result"
    }
   ],
   "source": [
    "X_train.iloc[0:2], y_train.iloc[0:2]"
   ]
  },
  {
   "cell_type": "markdown",
   "id": "e14dcdc0-b904-4275-82f1-da7cfeb4ec0c",
   "metadata": {},
   "source": [
    "**The we will implement min/max scaling on our X values**"
   ]
  },
  {
   "cell_type": "code",
   "execution_count": null,
   "id": "b02b835c-469f-4a97-863e-92db4722e65b",
   "metadata": {},
   "outputs": [],
   "source": [
    "scaler = MinMaxScaler()\n",
    "X_train_mm = scaler.fit_transform(X_train)\n",
    "X_test_mm = scaler.fit_transform(X_test)"
   ]
  },
  {
   "cell_type": "code",
   "execution_count": null,
   "id": "2ca790c3-0e58-4131-9ba6-1ca0f777672c",
   "metadata": {},
   "outputs": [
    {
     "data": {
      "text/plain": [
       "(array([[0.06103286, 0.10798122, 0.0291424 , ..., 0.        , 0.        ,\n",
       "         0.        ],\n",
       "        [0.07511737, 0.1486698 , 0.03262748, ..., 0.        , 0.        ,\n",
       "         0.        ],\n",
       "        [0.20500782, 0.20187793, 0.01638874, ..., 0.        , 0.        ,\n",
       "         0.        ],\n",
       "        [0.09859155, 0.24100156, 0.04997625, ..., 0.        , 0.        ,\n",
       "         0.        ],\n",
       "        [0.0172144 , 0.08763693, 0.07914365, ..., 0.        , 0.        ,\n",
       "         0.        ]]),\n",
       " array([[0.11563169, 0.24576271, 0.04585583, ..., 0.        , 0.        ,\n",
       "         0.        ],\n",
       "        [0.03640257, 0.35254237, 0.1307914 , ..., 0.        , 0.        ,\n",
       "         0.        ],\n",
       "        [0.10706638, 0.37966102, 0.06092127, ..., 0.        , 0.        ,\n",
       "         0.        ],\n",
       "        [0.02997859, 0.18644068, 0.07933458, ..., 0.        , 0.        ,\n",
       "         0.        ],\n",
       "        [0.11563169, 0.24576271, 0.04585583, ..., 0.        , 0.        ,\n",
       "         0.        ]]))"
      ]
     },
     "execution_count": 21,
     "metadata": {},
     "output_type": "execute_result"
    }
   ],
   "source": [
    "X_train_mm[0:5], X_test_mm[0:5]"
   ]
  },
  {
   "cell_type": "markdown",
   "id": "3bf3ce7f-610c-4cd9-9405-514f0a958175",
   "metadata": {},
   "source": [
    "## Logistic Regression Model"
   ]
  },
  {
   "cell_type": "code",
   "execution_count": null,
   "id": "73ba2638-aae5-4ca7-af76-6f16b372b5d7",
   "metadata": {},
   "outputs": [],
   "source": [
    "from sklearn.linear_model import LogisticRegression\n",
    "from sklearn.metrics import classification_report"
   ]
  },
  {
   "cell_type": "code",
   "execution_count": null,
   "id": "8711f7dc-5b01-440c-a3d7-8c630877fbd2",
   "metadata": {},
   "outputs": [
    {
     "ename": "NameError",
     "evalue": "name 'LogisticRegression' is not defined",
     "output_type": "error",
     "traceback": [
      "\u001b[0;31m---------------------------------------------------------------------------\u001b[0m",
      "\u001b[0;31mNameError\u001b[0m                                 Traceback (most recent call last)",
      "Cell \u001b[0;32mIn[3], line 1\u001b[0m\n\u001b[0;32m----> 1\u001b[0m logreg \u001b[39m=\u001b[39m LogisticRegression()\n\u001b[1;32m      2\u001b[0m logreg\u001b[39m.\u001b[39mfit(X_train_mm, y_train);\n",
      "\u001b[0;31mNameError\u001b[0m: name 'LogisticRegression' is not defined"
     ]
    }
   ],
   "source": [
    "logreg = LogisticRegression(random_state=RANDOM_SEED)\n",
    "logreg.fit(X_train_mm, y_train);"
   ]
  },
  {
   "cell_type": "code",
   "execution_count": null,
   "id": "13dbb628-9ac1-4888-8b52-4d7eba93812e",
   "metadata": {},
   "outputs": [
    {
     "name": "stdout",
     "output_type": "stream",
     "text": [
      "              precision    recall  f1-score   support\n",
      "\n",
      "       False       0.98      1.00      0.99      2252\n",
      "        True       0.98      0.89      0.93       359\n",
      "\n",
      "    accuracy                           0.98      2611\n",
      "   macro avg       0.98      0.94      0.96      2611\n",
      "weighted avg       0.98      0.98      0.98      2611\n",
      "\n"
     ]
    }
   ],
   "source": [
    "yhat_train = logreg.predict(X_train_mm)\n",
    "print(classification_report(y_train, yhat_train))"
   ]
  },
  {
   "cell_type": "code",
   "execution_count": null,
   "id": "b56f5f35-9fd6-4827-ad97-1a25ce1e8ac4",
   "metadata": {},
   "outputs": [
    {
     "name": "stdout",
     "output_type": "stream",
     "text": [
      "              precision    recall  f1-score   support\n",
      "\n",
      "       False       0.96      1.00      0.98       558\n",
      "        True       0.99      0.78      0.87        95\n",
      "\n",
      "    accuracy                           0.97       653\n",
      "   macro avg       0.98      0.89      0.93       653\n",
      "weighted avg       0.97      0.97      0.96       653\n",
      "\n"
     ]
    }
   ],
   "source": [
    "yhat_test = logreg.predict(X_test_mm)\n",
    "print(classification_report(y_test, yhat_test))"
   ]
  },
  {
   "cell_type": "markdown",
   "id": "e60a56a4-4785-4d40-9dbb-3fada628b390",
   "metadata": {},
   "source": [
    "## Simple Neural Net Model"
   ]
  },
  {
   "cell_type": "code",
   "execution_count": null,
   "id": "a21d30d0-041a-4210-a548-098e3a3563fa",
   "metadata": {},
   "outputs": [
    {
     "name": "stderr",
     "output_type": "stream",
     "text": [
      "2022-12-03 14:39:36.140395: I tensorflow/core/platform/cpu_feature_guard.cc:193] This TensorFlow binary is optimized with oneAPI Deep Neural Network Library (oneDNN) to use the following CPU instructions in performance-critical operations:  AVX2 FMA\n",
      "To enable them in other operations, rebuild TensorFlow with the appropriate compiler flags.\n",
      "2022-12-03 14:39:37.170165: W tensorflow/stream_executor/platform/default/dso_loader.cc:64] Could not load dynamic library 'libcudart.so.11.0'; dlerror: libcudart.so.11.0: cannot open shared object file: No such file or directory\n",
      "2022-12-03 14:39:37.170241: I tensorflow/stream_executor/cuda/cudart_stub.cc:29] Ignore above cudart dlerror if you do not have a GPU set up on your machine.\n",
      "2022-12-03 14:39:37.322521: E tensorflow/stream_executor/cuda/cuda_blas.cc:2981] Unable to register cuBLAS factory: Attempting to register factory for plugin cuBLAS when one has already been registered\n",
      "2022-12-03 14:39:39.581521: W tensorflow/stream_executor/platform/default/dso_loader.cc:64] Could not load dynamic library 'libnvinfer.so.7'; dlerror: libnvinfer.so.7: cannot open shared object file: No such file or directory\n",
      "2022-12-03 14:39:39.581762: W tensorflow/stream_executor/platform/default/dso_loader.cc:64] Could not load dynamic library 'libnvinfer_plugin.so.7'; dlerror: libnvinfer_plugin.so.7: cannot open shared object file: No such file or directory\n",
      "2022-12-03 14:39:39.581780: W tensorflow/compiler/tf2tensorrt/utils/py_utils.cc:38] TF-TRT Warning: Cannot dlopen some TensorRT libraries. If you would like to use Nvidia GPU with TensorRT, please make sure the missing libraries mentioned above are installed properly.\n"
     ]
    }
   ],
   "source": [
    "from keras.models import Sequential\n",
    "from keras.layers import Dense"
   ]
  },
  {
   "cell_type": "code",
   "execution_count": null,
   "id": "4e9a1a87-e352-4747-af00-c646c179f637",
   "metadata": {},
   "outputs": [
    {
     "name": "stderr",
     "output_type": "stream",
     "text": [
      "2022-12-03 14:39:41.383709: W tensorflow/stream_executor/platform/default/dso_loader.cc:64] Could not load dynamic library 'libcuda.so.1'; dlerror: libcuda.so.1: cannot open shared object file: No such file or directory\n",
      "2022-12-03 14:39:41.384177: W tensorflow/stream_executor/cuda/cuda_driver.cc:263] failed call to cuInit: UNKNOWN ERROR (303)\n",
      "2022-12-03 14:39:41.384241: I tensorflow/stream_executor/cuda/cuda_diagnostics.cc:156] kernel driver does not appear to be running on this host (x240): /proc/driver/nvidia/version does not exist\n",
      "2022-12-03 14:39:41.385537: I tensorflow/core/platform/cpu_feature_guard.cc:193] This TensorFlow binary is optimized with oneAPI Deep Neural Network Library (oneDNN) to use the following CPU instructions in performance-critical operations:  AVX2 FMA\n",
      "To enable them in other operations, rebuild TensorFlow with the appropriate compiler flags.\n"
     ]
    }
   ],
   "source": [
    "classifier = Sequential() # Initialising the ANN\n",
    "\n",
    "classifier.add(Dense(units = 16, activation = 'relu', input_dim = 1558))\n",
    "classifier.add(Dense(units = 8, activation = 'relu'))\n",
    "classifier.add(Dense(units = 6, activation = 'relu'))\n",
    "classifier.add(Dense(units = 1, activation = 'sigmoid')) # use sigmoid for final classifier unit"
   ]
  },
  {
   "cell_type": "code",
   "execution_count": null,
   "id": "96bc91a3-874b-4092-a756-360b4074ef6e",
   "metadata": {},
   "outputs": [],
   "source": [
    "classifier.compile(optimizer = 'rmsprop', loss = 'binary_crossentropy', metrics = [\"accuracy\"])"
   ]
  },
  {
   "cell_type": "code",
   "execution_count": null,
   "id": "e8010257-3831-43a8-8baf-0732bee00cf0",
   "metadata": {},
   "outputs": [
    {
     "name": "stdout",
     "output_type": "stream",
     "text": [
      "Epoch 1/25\n",
      "2611/2611 [==============================] - 9s 3ms/step - loss: 0.2472 - accuracy: 0.9314 - val_loss: 0.1874 - val_accuracy: 0.9632\n",
      "Epoch 2/25\n",
      "2611/2611 [==============================] - 8s 3ms/step - loss: 0.2143 - accuracy: 0.9690 - val_loss: 0.2096 - val_accuracy: 0.9648\n",
      "Epoch 3/25\n",
      "2611/2611 [==============================] - 8s 3ms/step - loss: 0.2299 - accuracy: 0.9701 - val_loss: 0.1953 - val_accuracy: 0.9663\n",
      "Epoch 4/25\n",
      "2611/2611 [==============================] - 10s 4ms/step - loss: 0.2164 - accuracy: 0.9728 - val_loss: 0.2670 - val_accuracy: 0.9648\n",
      "Epoch 5/25\n",
      "2611/2611 [==============================] - 17s 7ms/step - loss: 0.2249 - accuracy: 0.9705 - val_loss: 0.2009 - val_accuracy: 0.9632\n",
      "Epoch 6/25\n",
      "2611/2611 [==============================] - 19s 7ms/step - loss: 0.2013 - accuracy: 0.9728 - val_loss: 0.2415 - val_accuracy: 0.9648\n",
      "Epoch 7/25\n",
      "2611/2611 [==============================] - 19s 7ms/step - loss: 0.1863 - accuracy: 0.9732 - val_loss: 0.2619 - val_accuracy: 0.9632\n",
      "Epoch 8/25\n",
      "2611/2611 [==============================] - 18s 7ms/step - loss: 0.2001 - accuracy: 0.9747 - val_loss: 0.2172 - val_accuracy: 0.9678\n",
      "Epoch 9/25\n",
      "2611/2611 [==============================] - 19s 7ms/step - loss: 0.1706 - accuracy: 0.9770 - val_loss: 0.2150 - val_accuracy: 0.9663\n",
      "Epoch 10/25\n",
      "2611/2611 [==============================] - 20s 8ms/step - loss: 0.1759 - accuracy: 0.9786 - val_loss: 0.2451 - val_accuracy: 0.9694\n",
      "Epoch 11/25\n",
      "2611/2611 [==============================] - 19s 7ms/step - loss: 0.1671 - accuracy: 0.9801 - val_loss: 0.1288 - val_accuracy: 0.9724\n",
      "Epoch 12/25\n",
      "2611/2611 [==============================] - 16s 6ms/step - loss: 0.1708 - accuracy: 0.9793 - val_loss: 0.1275 - val_accuracy: 0.9709\n",
      "Epoch 13/25\n",
      "2611/2611 [==============================] - 8s 3ms/step - loss: 0.1984 - accuracy: 0.9793 - val_loss: 0.2528 - val_accuracy: 0.9694\n",
      "Epoch 14/25\n",
      "2611/2611 [==============================] - 7s 3ms/step - loss: 0.1809 - accuracy: 0.9805 - val_loss: 0.1491 - val_accuracy: 0.9724\n",
      "Epoch 15/25\n",
      "2611/2611 [==============================] - 7s 3ms/step - loss: 0.1649 - accuracy: 0.9816 - val_loss: 0.2819 - val_accuracy: 0.9678\n",
      "Epoch 16/25\n",
      "2611/2611 [==============================] - 8s 3ms/step - loss: 0.1876 - accuracy: 0.9820 - val_loss: 0.3000 - val_accuracy: 0.9678\n",
      "Epoch 17/25\n",
      "2611/2611 [==============================] - 7s 3ms/step - loss: 0.1630 - accuracy: 0.9824 - val_loss: 0.4512 - val_accuracy: 0.9663\n",
      "Epoch 18/25\n",
      "2611/2611 [==============================] - 7s 3ms/step - loss: 0.1947 - accuracy: 0.9824 - val_loss: 0.2582 - val_accuracy: 0.9678\n",
      "Epoch 19/25\n",
      "2611/2611 [==============================] - 7s 3ms/step - loss: 0.1507 - accuracy: 0.9820 - val_loss: 0.2729 - val_accuracy: 0.9678\n",
      "Epoch 20/25\n",
      "2611/2611 [==============================] - 7s 3ms/step - loss: 0.1355 - accuracy: 0.9828 - val_loss: 0.2776 - val_accuracy: 0.9694\n",
      "Epoch 21/25\n",
      "2611/2611 [==============================] - 7s 3ms/step - loss: 0.1465 - accuracy: 0.9820 - val_loss: 0.2762 - val_accuracy: 0.9678\n",
      "Epoch 22/25\n",
      "2611/2611 [==============================] - 8s 3ms/step - loss: 0.1365 - accuracy: 0.9831 - val_loss: 0.1508 - val_accuracy: 0.9755\n",
      "Epoch 23/25\n",
      "2611/2611 [==============================] - 7s 3ms/step - loss: 0.1265 - accuracy: 0.9851 - val_loss: 0.1801 - val_accuracy: 0.9755\n",
      "Epoch 24/25\n",
      "2611/2611 [==============================] - 8s 3ms/step - loss: 0.1435 - accuracy: 0.9835 - val_loss: 0.2620 - val_accuracy: 0.9740\n",
      "Epoch 25/25\n",
      "2611/2611 [==============================] - 8s 3ms/step - loss: 0.1626 - accuracy: 0.9851 - val_loss: 0.2621 - val_accuracy: 0.9724\n"
     ]
    }
   ],
   "source": [
    "hist = classifier.fit(X_train_mm.astype(float), y_train, batch_size = 1, epochs = 25, validation_data=(X_test_mm, y_test))"
   ]
  },
  {
   "cell_type": "markdown",
   "id": "d22e595c-fad2-4c7d-9866-92915c3926fd",
   "metadata": {},
   "source": [
    "**Training Error**"
   ]
  },
  {
   "cell_type": "code",
   "execution_count": null,
   "id": "11ff9b38-4998-4162-be90-6dfc82739f0b",
   "metadata": {},
   "outputs": [
    {
     "data": {
      "text/plain": [
       "array([[1.30233835e-04],\n",
       "       [1.00319194e-04],\n",
       "       [9.23173411e-06],\n",
       "       [1.26955647e-05],\n",
       "       [1.58074220e-09]], dtype=float32)"
      ]
     },
     "execution_count": 30,
     "metadata": {},
     "output_type": "execute_result"
    }
   ],
   "source": [
    "yhat_train = classifier.predict(X_train_mm.astype(float), verbose=False)\n",
    "yhat_train[0:5]"
   ]
  },
  {
   "cell_type": "code",
   "execution_count": null,
   "id": "8b513271-c9c1-4f43-a92c-31e7f088dac4",
   "metadata": {},
   "outputs": [
    {
     "data": {
      "text/plain": [
       "[0, 0, 0, 0, 0]"
      ]
     },
     "execution_count": 31,
     "metadata": {},
     "output_type": "execute_result"
    }
   ],
   "source": [
    "yhat_train_binary = [ 1 if y>=0.5 else 0 for y in yhat_train ]\n",
    "yhat_train_binary[0:5]"
   ]
  },
  {
   "cell_type": "code",
   "execution_count": null,
   "id": "ec0c3b99-bada-43b8-b24a-f513936ff937",
   "metadata": {},
   "outputs": [
    {
     "name": "stdout",
     "output_type": "stream",
     "text": [
      "              precision    recall  f1-score   support\n",
      "\n",
      "       False       0.98      1.00      0.99      2252\n",
      "        True       0.98      0.90      0.94       359\n",
      "\n",
      "    accuracy                           0.98      2611\n",
      "   macro avg       0.98      0.95      0.97      2611\n",
      "weighted avg       0.98      0.98      0.98      2611\n",
      "\n"
     ]
    }
   ],
   "source": [
    "print(classification_report(y_train, yhat_train_binary))"
   ]
  },
  {
   "cell_type": "markdown",
   "id": "2474760e-5a00-4948-8bdb-ae74d4694d4c",
   "metadata": {},
   "source": [
    "**Testing Error**"
   ]
  },
  {
   "cell_type": "code",
   "execution_count": null,
   "id": "e55e8377-0551-4da7-bcb7-198c4cd4232c",
   "metadata": {},
   "outputs": [
    {
     "data": {
      "text/plain": [
       "array([[6.4983439e-08],\n",
       "       [2.2810480e-06],\n",
       "       [1.0000000e+00],\n",
       "       [2.0521695e-06],\n",
       "       [1.2924845e-09]], dtype=float32)"
      ]
     },
     "execution_count": 33,
     "metadata": {},
     "output_type": "execute_result"
    }
   ],
   "source": [
    "yhat_test = classifier.predict(X_test_mm.astype(float), verbose=False)\n",
    "yhat_test[0:5]"
   ]
  },
  {
   "cell_type": "code",
   "execution_count": null,
   "id": "4eef2aa8-5951-4447-a5ce-5d5c9d5010ed",
   "metadata": {},
   "outputs": [
    {
     "data": {
      "text/plain": [
       "[0, 0, 1, 0, 0]"
      ]
     },
     "execution_count": 34,
     "metadata": {},
     "output_type": "execute_result"
    }
   ],
   "source": [
    "yhat_test_binary = [ 1 if y>=0.5 else 0 for y in yhat_test ]\n",
    "yhat_test_binary[0:5]"
   ]
  },
  {
   "cell_type": "code",
   "execution_count": null,
   "id": "e98e77c8-8b57-4a0e-a3b6-2bf3948032d4",
   "metadata": {},
   "outputs": [
    {
     "name": "stdout",
     "output_type": "stream",
     "text": [
      "              precision    recall  f1-score   support\n",
      "\n",
      "       False       0.97      0.99      0.98       558\n",
      "        True       0.96      0.84      0.90        95\n",
      "\n",
      "    accuracy                           0.97       653\n",
      "   macro avg       0.97      0.92      0.94       653\n",
      "weighted avg       0.97      0.97      0.97       653\n",
      "\n"
     ]
    }
   ],
   "source": [
    "print(classification_report(y_test, yhat_test_binary))"
   ]
  },
  {
   "cell_type": "markdown",
   "id": "9a2f8efc-19cf-4d94-94b3-b207bf8175f3",
   "metadata": {},
   "source": [
    "**Plot Model Performance**"
   ]
  },
  {
   "cell_type": "code",
   "execution_count": null,
   "id": "cec6b967-3957-46a6-8089-9d290f048fb5",
   "metadata": {},
   "outputs": [],
   "source": [
    "import matplotlib.pyplot as plt"
   ]
  },
  {
   "cell_type": "code",
   "execution_count": null,
   "id": "96969051-78c0-45d6-b201-86ab52de08f4",
   "metadata": {},
   "outputs": [],
   "source": [
    "NN_history = pd.DataFrame(hist.history)\n",
    "NN_history.rename(\n",
    "    columns={\n",
    "        \"loss\": \"train_loss\",\n",
    "        \"val_loss\": \"test_loss\",\n",
    "        \"accuracy\": \"train_accuracy\",\n",
    "        \"val_accuracy\": \"test_accuracy\",\n",
    "        },\n",
    "    inplace=True,\n",
    "    )"
   ]
  },
  {
   "cell_type": "code",
   "execution_count": null,
   "id": "a009bdf4",
   "metadata": {},
   "outputs": [
    {
     "ename": "NameError",
     "evalue": "name 'sns' is not defined",
     "output_type": "error",
     "traceback": [
      "\u001b[0;31m---------------------------------------------------------------------------\u001b[0m",
      "\u001b[0;31mNameError\u001b[0m                                 Traceback (most recent call last)",
      "Cell \u001b[0;32mIn[2], line 1\u001b[0m\n\u001b[0;32m----> 1\u001b[0m sns\u001b[39m.\u001b[39mlineplot(NN_history[[\u001b[39m\"\u001b[39m\u001b[39mtrain_loss\u001b[39m\u001b[39m\"\u001b[39m, \u001b[39m\"\u001b[39m\u001b[39mtest_loss\u001b[39m\u001b[39m\"\u001b[39m]])\u001b[39m.\u001b[39mset(xlabel\u001b[39m=\u001b[39m\u001b[39m\"\u001b[39m\u001b[39mepoch\u001b[39m\u001b[39m\"\u001b[39m, ylabel\u001b[39m=\u001b[39m\u001b[39m\"\u001b[39m\u001b[39mloss\u001b[39m\u001b[39m\"\u001b[39m)\n",
      "\u001b[0;31mNameError\u001b[0m: name 'sns' is not defined"
     ]
    }
   ],
   "source": [
    "sns.lineplot(NN_history[[\"train_loss\", \"test_loss\"]]).set(xlabel=\"epoch\", ylabel=\"binary-crossentropy loss\")"
   ]
  },
  {
   "cell_type": "code",
   "execution_count": null,
   "id": "774bb1f5",
   "metadata": {},
   "outputs": [
    {
     "data": {
      "text/plain": [
       "<AxesSubplot: >"
      ]
     },
     "execution_count": 39,
     "metadata": {},
     "output_type": "execute_result"
    },
    {
     "data": {
      "image/png": "[encoded data removed]",
      "text/plain": [
       "<Figure size 640x480 with 1 Axes>"
      ]
     },
     "metadata": {},
     "output_type": "display_data"
    }
   ],
   "source": [
    "sns.lineplot(NN_history[[\"train_accuracy\", \"test_accuracy\"]]).set(xlabel=\"epoch\", ylabel=\"binary-crossentropy loss\")"
   ]
  },
  {
   "cell_type": "markdown",
   "id": "3a03af46",
   "metadata": {},
   "source": [
    "## SVM classification"
   ]
  },
  {
   "cell_type": "code",
   "execution_count": null,
   "id": "c52d7320",
   "metadata": {},
   "outputs": [],
   "source": [
    "from sklearn.svm import SVC"
   ]
  },
  {
   "cell_type": "code",
   "execution_count": null,
   "id": "f466b47f",
   "metadata": {},
   "outputs": [
    {
     "name": "stdout",
     "output_type": "stream",
     "text": [
      "              precision    recall  f1-score   support\n",
      "\n",
      "       False       0.97      1.00      0.98       558\n",
      "        True       0.99      0.80      0.88        95\n",
      "\n",
      "    accuracy                           0.97       653\n",
      "   macro avg       0.98      0.90      0.93       653\n",
      "weighted avg       0.97      0.97      0.97       653\n",
      "\n"
     ]
    }
   ],
   "source": [
    "svm = SVC(kernel=\"rbf\", random_state=RANDOM_SEED)\n",
    "svm.fit(X_train_mm,y_train)\n",
    "yhat = svm.predict(X_test_mm)\n",
    "\n",
    "print(classification_report(y_test, yhat))"
   ]
  },
  {
   "cell_type": "code",
   "execution_count": null,
   "id": "76790d4d",
   "metadata": {},
   "outputs": [],
   "source": []
  }
 ],
 "metadata": {
  "kernelspec": {
   "display_name": "Python 3 (ipykernel)",
   "language": "python",
   "name": "python3"
  },
  "language_info": {
   "codemirror_mode": {
    "name": "ipython",
    "version": 3
   },
   "file_extension": ".py",
   "mimetype": "text/x-python",
   "name": "python",
   "nbconvert_exporter": "python",
   "pygments_lexer": "ipython3",
   "version": "3.10.8"
  },
  "vscode": {
   "interpreter": {
    "hash": "e7370f93d1d0cde622a1f8e1c04877d8463912d04d973331ad4851f04de6915a"
   }
  }
 },
 "nbformat": 4,
 "nbformat_minor": 5
}
